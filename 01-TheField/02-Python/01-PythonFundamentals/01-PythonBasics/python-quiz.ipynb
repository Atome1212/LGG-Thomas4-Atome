{
 "cells": [
  {
   "cell_type": "markdown",
   "metadata": {},
   "source": [
    "# Quizz 1 - Python basics"
   ]
  },
  {
   "cell_type": "markdown",
   "metadata": {},
   "source": [
    "## a) type"
   ]
  },
  {
   "cell_type": "markdown",
   "metadata": {},
   "source": [
    "### Create a variable `string` containing `\"toto\"` and a variable `number` containing the number 10."
   ]
  },
  {
   "cell_type": "code",
   "execution_count": null,
   "metadata": {},
   "outputs": [],
   "source": [
    "myString = \"toto\"\n",
    "myInt = 10"
   ]
  },
  {
   "cell_type": "markdown",
   "metadata": {},
   "source": [
    "### Reverse the contents of the variables `string` and `number` (from line 1)."
   ]
  },
  {
   "cell_type": "code",
   "execution_count": null,
   "metadata": {},
   "outputs": [],
   "source": [
    "def reverse_string(s):\n",
    "    return ''.join(reversed(s))\n",
    "\n",
    "myString = reverse_string(myString)\n",
    "myInt = int(reverse_string(str(myInt)))"
   ]
  },
  {
   "cell_type": "markdown",
   "metadata": {},
   "source": [
    "## b) List"
   ]
  },
  {
   "cell_type": "markdown",
   "metadata": {},
   "source": [
    "### Create a list `first_list`  containing the following integers: 1, 3, 2, 7, 4, 10, 46."
   ]
  },
  {
   "cell_type": "code",
   "execution_count": null,
   "metadata": {},
   "outputs": [],
   "source": [
    "first_list = [1, 3, 2, 7, 4, 10, 46]"
   ]
  },
  {
   "cell_type": "markdown",
   "metadata": {},
   "source": [
    "\n",
    "### Display the first 3 items in `first_list` - in one line of code."
   ]
  },
  {
   "cell_type": "code",
   "execution_count": null,
   "metadata": {},
   "outputs": [],
   "source": [
    "print(firstList[0], firstList[1], firstList[2])"
   ]
  },
  {
   "cell_type": "markdown",
   "metadata": {},
   "source": [
    "### Create a `second_list` that contains only the 3rd, 4th and 5th elements of `first_list` . Your list indexing should use 3 characters at most (not including spaces) - Check your result carefully!"
   ]
  },
  {
   "cell_type": "code",
   "execution_count": null,
   "metadata": {},
   "outputs": [],
   "source": [
    "second_list = first_list[2:5]"
   ]
  },
  {
   "cell_type": "code",
   "execution_count": null,
   "metadata": {},
   "outputs": [],
   "source": []
  },
  {
   "cell_type": "markdown",
   "metadata": {},
   "source": [
    "### Concatenate `first_list` and `second_list` to form `third_list`."
   ]
  },
  {
   "cell_type": "code",
   "execution_count": null,
   "metadata": {},
   "outputs": [],
   "source": [
    "third_list = first_list + second_list"
   ]
  },
  {
   "cell_type": "markdown",
   "metadata": {},
   "source": [
    "### Using the zip function, associate the values of `first_list` and `second_list` in the variable `tuple_of_lists`."
   ]
  },
  {
   "cell_type": "code",
   "execution_count": null,
   "metadata": {},
   "outputs": [],
   "source": [
    "tuple_of_lists = list(zip(first_list, second_list))"
   ]
  },
  {
   "cell_type": "markdown",
   "metadata": {},
   "source": [
    "### Add the number 5 to `first_list`."
   ]
  },
  {
   "cell_type": "code",
   "execution_count": null,
   "metadata": {},
   "outputs": [],
   "source": [
    "first_list.append(5)"
   ]
  },
  {
   "cell_type": "markdown",
   "metadata": {},
   "source": [
    "### Add a null element to `third_list`."
   ]
  },
  {
   "cell_type": "code",
   "execution_count": null,
   "metadata": {},
   "outputs": [],
   "source": [
    "third_list.append(None)"
   ]
  },
  {
   "cell_type": "markdown",
   "metadata": {},
   "source": [
    "### Write a function that takes as arguments a list `my_list` and an integer `n` and returns the result of `n` concatenations of `my_list` with itself."
   ]
  },
  {
   "cell_type": "code",
   "execution_count": null,
   "metadata": {},
   "outputs": [],
   "source": [
    "def concListInt (my_list, n):\n",
    "    return my_list * n"
   ]
  },
  {
   "cell_type": "markdown",
   "metadata": {},
   "source": [
    "### You want to make parameter `n` optional and set its value to 2 by default. How do you do it?"
   ]
  },
  {
   "cell_type": "code",
   "execution_count": null,
   "metadata": {},
   "outputs": [],
   "source": [
    "def concListInt (my_list, n=2):\n",
    "    return my_list * n"
   ]
  },
  {
   "cell_type": "markdown",
   "metadata": {},
   "source": [
    "###  With a `while` loop, print each element of `third_list` up to the `null` element."
   ]
  },
  {
   "cell_type": "code",
   "execution_count": null,
   "metadata": {},
   "outputs": [],
   "source": [
    "i = 0\n",
    "while (i < len(third_list)):\n",
    "    if third_list[i] is None:\n",
    "        break\n",
    "    print(third_list[i])"
   ]
  },
  {
   "cell_type": "markdown",
   "metadata": {},
   "source": [
    "### Calculate, with a `for` loop, the number of even integers present in the list `first_list`."
   ]
  },
  {
   "cell_type": "code",
   "execution_count": null,
   "metadata": {},
   "outputs": [],
   "source": [
    "numberOdd = 0\n",
    "for i in (first_list):\n",
    "    if (i % 2) == 0:\n",
    "        numberOdd += 1\n",
    "\n"
   ]
  },
  {
   "cell_type": "markdown",
   "metadata": {},
   "source": [
    "### Rewrite the following expression with a multi-line `for` loop."
   ]
  },
  {
   "cell_type": "code",
   "execution_count": null,
   "metadata": {},
   "outputs": [],
   "source": [
    "even_numbers = [element for element in first_list if element % 2 == 0]"
   ]
  },
  {
   "cell_type": "code",
   "execution_count": null,
   "metadata": {},
   "outputs": [],
   "source": [
    "even_numbers = []\n",
    "for element in first_list:\n",
    "    if element % 2 == 0:\n",
    "        even_numbers.append(element)"
   ]
  },
  {
   "cell_type": "markdown",
   "metadata": {},
   "source": [
    "### Create a function that takes a string as input and returns the first single letter of the string"
   ]
  },
  {
   "cell_type": "code",
   "execution_count": null,
   "metadata": {},
   "outputs": [],
   "source": [
    "def firstLet():\n",
    "    return input(\"what's your string ? \")[0]\n",
    "\n",
    "print(firstLet())\n"
   ]
  },
  {
   "cell_type": "markdown",
   "metadata": {},
   "source": [
    "## c) Dictionaries"
   ]
  },
  {
   "cell_type": "markdown",
   "metadata": {},
   "source": [
    "### Create a `car` dictionary with the following keys and values:\n",
    "| key  | value |\n",
    "|---|---|\n",
    "| brand  | Ford  |\n",
    "| model  | Mustang |\n",
    "| year  | 1964 |"
   ]
  },
  {
   "cell_type": "code",
   "execution_count": null,
   "metadata": {},
   "outputs": [],
   "source": [
    "car = {\n",
    "        'brand' : 'Ford',\n",
    "        'model' : 'Mustang',\n",
    "        'year' : '1964'\n",
    "}\n"
   ]
  },
  {
   "cell_type": "markdown",
   "metadata": {},
   "source": [
    "### Access the `year` value."
   ]
  },
  {
   "cell_type": "code",
   "execution_count": null,
   "metadata": {},
   "outputs": [],
   "source": [
    "print(car['year'])"
   ]
  },
  {
   "cell_type": "markdown",
   "metadata": {},
   "source": [
    "###  Use a loop to display all the dictionary keys."
   ]
  },
  {
   "cell_type": "code",
   "execution_count": null,
   "metadata": {},
   "outputs": [],
   "source": [
    "for i in car:\n",
    "    print(i)"
   ]
  },
  {
   "cell_type": "markdown",
   "metadata": {},
   "source": [
    "###  Use a loop to display all the dictionary values."
   ]
  },
  {
   "cell_type": "code",
   "execution_count": null,
   "metadata": {},
   "outputs": [],
   "source": [
    "for x in car.values:\n",
    "    print(x)"
   ]
  },
  {
   "cell_type": "markdown",
   "metadata": {},
   "source": [
    "### Use a loop to display all the items in the dictionary. Display also the index of each loop iteration (`enumerate` function)."
   ]
  },
  {
   "cell_type": "code",
   "execution_count": null,
   "metadata": {},
   "outputs": [],
   "source": [
    "for i, x in enumerate(car):\n",
    "    print(i, x)"
   ]
  },
  {
   "cell_type": "markdown",
   "metadata": {},
   "source": [
    "### With the help of a dictionary comprehension, create a dictionary with the following keys and values :\n",
    "| key  | value |\n",
    "|---|---|\n",
    "| cle_1  | dictionary 'car' |\n",
    "| cle_2  | dictionary 'car' |\n",
    "| cle_3  | dictionary 'car'|\n",
    "\n",
    "#### Example of a dictionary comprehension (similar to list comprehension):\n",
    "```\n",
    "my_dict = {key:value for key, value in zip(list_1, list_2)}\n",
    "```"
   ]
  },
  {
   "cell_type": "code",
   "execution_count": null,
   "metadata": {},
   "outputs": [],
   "source": [
    "keys = ['cle_1', 'cle_2', 'cle_3']\n",
    "new_dict = {key: car for key in keys}"
   ]
  },
  {
   "cell_type": "markdown",
   "metadata": {},
   "source": [
    "## d) Functions"
   ]
  },
  {
   "cell_type": "markdown",
   "metadata": {},
   "source": [
    "### Create a Fibonacci function called `fibonacci`  (Fibonacci sequence: 0 1 1 2 3 5 8 13 ...)\n",
    "\n",
    "It should return the list of all Fibonacci numbers leading up to the Fibonacci number that is bigger (or equal) than the number passed in as argument.\n",
    "Ex : `fibonacci(10) return [0,1,1,2,3,5,8,13]`\n",
    "Ex : `fibonacci(5) return [0,1,1,2,3,5]`"
   ]
  },
  {
   "cell_type": "code",
   "execution_count": null,
   "metadata": {},
   "outputs": [],
   "source": [
    "def fibonacci(max):\n",
    "    fibonacciList = [0, 1]\n",
    "    while fibonacciList[-1] < max:\n",
    "        fibonacciList.append(fibonacciList[-1] + fibonacciList[-2])\n",
    "    return fibonacciList\n",
    "\n",
    "print(fibonacci(int(input(\"num ?\"))))"
   ]
  },
  {
   "cell_type": "markdown",
   "metadata": {},
   "source": [
    "### Execute your function. `fibonacci(100)` must be executed in less than 1 second."
   ]
  },
  {
   "cell_type": "markdown",
   "metadata": {},
   "source": [
    "### Create the same function using a generator\n",
    "Ex : `generate_fibonacci(10) `"
   ]
  },
  {
   "cell_type": "code",
   "execution_count": null,
   "metadata": {},
   "outputs": [
    {
     "ename": "",
     "evalue": "",
     "output_type": "error",
     "traceback": [
      "\u001b[1;31mRunning cells with 'base (Python 3.10.8)' requires the ipykernel package.\n",
      "\u001b[1;31mRun the following command to install 'ipykernel' into the Python environment. \n",
      "\u001b[1;31mCommand: 'conda install -n base ipykernel --update-deps --force-reinstall'"
     ]
    }
   ],
   "source": [
    "def generateFibo():\n",
    "    max = int(input(\"num ? \"))\n",
    "    fibonacci = [0, 1]\n",
    "    fibonacci.append(fibonacci[-1] + fibonacci[-2]) for _ in range(max) if fibonacci[-1] < max\n",
    "    return fibonacci\n",
    "\n",
    "print(generateFibo())"
   ]
  }
 ],
 "metadata": {
  "kernelspec": {
   "display_name": "Python 3",
   "language": "python",
   "name": "python3"
  },
  "language_info": {
   "codemirror_mode": {
    "name": "ipython"
   },
   "file_extension": ".py",
   "mimetype": "text/x-python",
   "name": "python",
   "nbconvert_exporter": "python",
   "version": "3.10.8"
  }
 },
 "nbformat": 4,
 "nbformat_minor": 2
}
